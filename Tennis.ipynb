{
 "cells": [
  {
   "cell_type": "markdown",
   "metadata": {},
   "source": [
    "# Collaboration and Competition\n",
    "\n",
    "---\n",
    "\n",
    "You are welcome to use this coding environment to train your agent for the project.  Follow the instructions below to get started!\n",
    "\n",
    "### 1. Start the Environment\n",
    "\n",
    "Run the next code cell to install a few packages.  This line will take a few minutes to run!"
   ]
  },
  {
   "cell_type": "code",
   "execution_count": 1,
   "metadata": {},
   "outputs": [
    {
     "name": "stdout",
     "output_type": "stream",
     "text": [
      "\u001b[31mtensorflow 1.7.1 has requirement numpy>=1.13.3, but you'll have numpy 1.12.1 which is incompatible.\u001b[0m\r\n",
      "\u001b[31mipython 6.5.0 has requirement prompt-toolkit<2.0.0,>=1.0.15, but you'll have prompt-toolkit 2.0.9 which is incompatible.\u001b[0m\r\n"
     ]
    }
   ],
   "source": [
    "!pip -q install ./python"
   ]
  },
  {
   "cell_type": "markdown",
   "metadata": {},
   "source": [
    "The environment is already saved in the Workspace and can be accessed at the file path provided below. "
   ]
  },
  {
   "cell_type": "code",
   "execution_count": 2,
   "metadata": {},
   "outputs": [
    {
     "name": "stderr",
     "output_type": "stream",
     "text": [
      "INFO:unityagents:\n",
      "'Academy' started successfully!\n",
      "Unity Academy name: Academy\n",
      "        Number of Brains: 1\n",
      "        Number of External Brains : 1\n",
      "        Lesson number : 0\n",
      "        Reset Parameters :\n",
      "\t\t\n",
      "Unity brain name: TennisBrain\n",
      "        Number of Visual Observations (per agent): 0\n",
      "        Vector Observation space type: continuous\n",
      "        Vector Observation space size (per agent): 8\n",
      "        Number of stacked Vector Observation: 3\n",
      "        Vector Action space type: continuous\n",
      "        Vector Action space size (per agent): 2\n",
      "        Vector Action descriptions: , \n"
     ]
    }
   ],
   "source": [
    "from unityagents import UnityEnvironment\n",
    "import numpy as np\n",
    "\n",
    "env = UnityEnvironment(file_name=\"/data/Tennis_Linux_NoVis/Tennis\")"
   ]
  },
  {
   "cell_type": "markdown",
   "metadata": {},
   "source": [
    "Environments contain **_brains_** which are responsible for deciding the actions of their associated agents. Here we check for the first brain available, and set it as the default brain we will be controlling from Python."
   ]
  },
  {
   "cell_type": "code",
   "execution_count": 3,
   "metadata": {},
   "outputs": [],
   "source": [
    "# get the default brain\n",
    "brain_name = env.brain_names[0]\n",
    "brain = env.brains[brain_name]"
   ]
  },
  {
   "cell_type": "markdown",
   "metadata": {},
   "source": [
    "### 2. Examine the State and Action Spaces\n",
    "\n",
    "Run the code cell below to print some information about the environment."
   ]
  },
  {
   "cell_type": "code",
   "execution_count": 4,
   "metadata": {},
   "outputs": [
    {
     "name": "stdout",
     "output_type": "stream",
     "text": [
      "Number of agents: 2\n",
      "Size of each action: 2\n",
      "There are 2 agents. Each observes a state with length: 24\n",
      "The state for the first agent looks like: [ 0.          0.          0.          0.          0.          0.          0.\n",
      "  0.          0.          0.          0.          0.          0.          0.\n",
      "  0.          0.         -6.65278625 -1.5        -0.          0.\n",
      "  6.83172083  6.         -0.          0.        ]\n"
     ]
    }
   ],
   "source": [
    "# reset the environment\n",
    "env_info = env.reset(train_mode=True)[brain_name]\n",
    "\n",
    "# number of agents \n",
    "num_agents = len(env_info.agents)\n",
    "print('Number of agents:', num_agents)\n",
    "\n",
    "# size of each action\n",
    "action_size = brain.vector_action_space_size\n",
    "print('Size of each action:', action_size)\n",
    "\n",
    "# examine the state space \n",
    "states = env_info.vector_observations\n",
    "state_size = states.shape[1]\n",
    "print('There are {} agents. Each observes a state with length: {}'.format(states.shape[0], state_size))\n",
    "print('The state for the first agent looks like:', states[0])"
   ]
  },
  {
   "cell_type": "markdown",
   "metadata": {},
   "source": [
    "### 3. Take Random Actions in the Environment\n",
    "\n",
    "In the next code cell, you will learn how to use the Python API to control the agent and receive feedback from the environment.\n",
    "\n",
    "Note that **in this coding environment, you will not be able to watch the agents while they are training**, and you should set `train_mode=True` to restart the environment."
   ]
  },
  {
   "cell_type": "code",
   "execution_count": 5,
   "metadata": {},
   "outputs": [
    {
     "name": "stdout",
     "output_type": "stream",
     "text": [
      "Total score (averaged over agents) this episode: -0.004999999888241291\n",
      "Total score (averaged over agents) this episode: 0.1450000023469329\n",
      "Total score (averaged over agents) this episode: -0.004999999888241291\n",
      "Total score (averaged over agents) this episode: -0.004999999888241291\n",
      "Total score (averaged over agents) this episode: -0.004999999888241291\n"
     ]
    }
   ],
   "source": [
    "for i in range(5):                                         # play game for 5 episodes\n",
    "    env_info = env.reset(train_mode=False)[brain_name]     # reset the environment    \n",
    "    states = env_info.vector_observations                  # get the current state (for each agent)\n",
    "    scores = np.zeros(num_agents)                          # initialize the score (for each agent)\n",
    "    while True:\n",
    "        actions = np.random.randn(num_agents, action_size) # select an action (for each agent)\n",
    "        actions = np.clip(actions, -1, 1)                  # all actions between -1 and 1\n",
    "        env_info = env.step(actions)[brain_name]           # send all actions to tne environment\n",
    "        next_states = env_info.vector_observations         # get next state (for each agent)\n",
    "        rewards = env_info.rewards                         # get reward (for each agent)\n",
    "        dones = env_info.local_done                        # see if episode finished\n",
    "        scores += env_info.rewards                         # update the score (for each agent)\n",
    "        states = next_states                               # roll over states to next time step\n",
    "        if np.any(dones):                                  # exit loop if episode finished\n",
    "            break\n",
    "    print('Total score (averaged over agents) this episode: {}'.format(np.mean(scores)))"
   ]
  },
  {
   "cell_type": "markdown",
   "metadata": {},
   "source": [
    "When finished, you can close the environment."
   ]
  },
  {
   "cell_type": "markdown",
   "metadata": {},
   "source": [
    "### 4. It's Your Turn!\n",
    "\n",
    "Now it's your turn to train your own agent to solve the environment!  A few **important notes**:\n",
    "- When training the environment, set `train_mode=True`, so that the line for resetting the environment looks like the following:\n",
    "```python\n",
    "env_info = env.reset(train_mode=True)[brain_name]\n",
    "```\n",
    "- To structure your work, you're welcome to work directly in this Jupyter notebook, or you might like to start over with a new file!  You can see the list of files in the workspace by clicking on **_Jupyter_** in the top left corner of the notebook.\n",
    "- In this coding environment, you will not be able to watch the agents while they are training.  However, **_after training the agents_**, you can download the saved model weights to watch the agents on your own machine! "
   ]
  },
  {
   "cell_type": "code",
   "execution_count": 6,
   "metadata": {},
   "outputs": [],
   "source": [
    "import torch\n",
    "import torch.nn as nn\n",
    "import torch.nn.functional as F\n",
    "import torch.optim as optim\n",
    "\n",
    "from collections import namedtuple, deque\n",
    "import random\n",
    "import copy"
   ]
  },
  {
   "cell_type": "code",
   "execution_count": 7,
   "metadata": {},
   "outputs": [],
   "source": [
    "from maddpg_v_1_0 import MADDPG\n",
    "import matplotlib.pyplot as plt\n",
    "import time\n",
    "import numpy as np\n",
    "import torch"
   ]
  },
  {
   "cell_type": "code",
   "execution_count": 8,
   "metadata": {},
   "outputs": [],
   "source": [
    "device = torch.device(\"cuda\" if torch.cuda.is_available() else \"cpu\")"
   ]
  },
  {
   "cell_type": "code",
   "execution_count": 9,
   "metadata": {},
   "outputs": [],
   "source": [
    "agent = MADDPG(device, state_size, action_size, tau = 1e-3, gamma = 0.99, numUpdates = 1, learnSteps = 2)"
   ]
  },
  {
   "cell_type": "code",
   "execution_count": 10,
   "metadata": {},
   "outputs": [],
   "source": [
    "def maddpg(n_episodes=7000, max_t=1000, solved_score=0.5, consec_episodes=100, print_every=50, train_mode=True,\n",
    "         actor_path='./models/actor_ckpt.pth', critic_path='./models/critic_ckpt.pth', num_agents = 2):\n",
    "    explore_period = 100000\n",
    "    counter = 0\n",
    "    max_scores = []                                # list of highest scores from each episode\n",
    "    scores_window = deque(maxlen=consec_episodes)  # mean scores from most recent episodes\n",
    "    moving_avgs = []                               # list of moving averages\n",
    "    \n",
    "    for i_episode in range(1, n_episodes+1):\n",
    "        env_info = env.reset(train_mode=train_mode)[brain_name] # reset environment\n",
    "        states = env_info.vector_observations                   # get current state for each agent\n",
    "\n",
    "        scores = np.zeros(num_agents)                           # initialize score for each agent\n",
    "        agent.reset()\n",
    "        start_time = time.time()\n",
    "        for t in range(max_t):\n",
    "            if counter < explore_period:\n",
    "                noise_flag = True\n",
    "            else: \n",
    "                noise_flag = False\n",
    "            actions = agent.act(states, noise = noise_flag)         # select an action\n",
    "            env_info = env.step(actions)[brain_name]            # send actions to environment\n",
    "            next_states = env_info.vector_observations          # get next state\n",
    "            rewards = env_info.rewards                          # get reward\n",
    "            rewards = np.array(rewards)\n",
    "            dones = env_info.local_done                        # see if episode has finished\n",
    "            dones = np.array(dones)\n",
    "            agent.step(states, actions, rewards, next_states, dones, t)\n",
    "            states = next_states\n",
    "            scores += rewards\n",
    "            noise = noise * noise_factor\n",
    "            counter += 1\n",
    "            if np.any(dones):                                  # exit loop when episode ends\n",
    "                break\n",
    "                \n",
    "        max_scores.append(np.max(scores))             # save highest score for a single agent        \n",
    "        scores_window.append(np.max(scores))         # save mean score to window\n",
    "        moving_avgs.append(np.mean(scores_window))    # save moving average\n",
    "                \n",
    "        if i_episode % print_every == 0:\n",
    "            print('\\rEpisode {} \\tMov. Avg: {:.3f} \\tLast Score: {:.3f}'.format(\\\n",
    "                  i_episode, moving_avgs[-1], max_scores[-1]))\n",
    "                          \n",
    "        if moving_avgs[-1] >= solved_score and i_episode >= consec_episodes:\n",
    "            print('\\nEnvironment SOLVED in {} episodes!\\tMoving Average ={:.1f} over last {} episodes'.format(\\\n",
    "                                    i_episode, moving_avgs[-1], consec_episodes))            \n",
    "            if train_mode:\n",
    "                for idx in range(num_agents):\n",
    "                    torch.save(agent.agents[idx].actor_local.state_dict(), './models/checkpoint_actor_{0}.pth'.format(idx))\n",
    "                    torch.save(agent.agents[idx].critic_local.state_dict(), './models/checkpoint_critic_{0}.pth'.format(idx))  \n",
    "            break\n",
    "            \n",
    "    return max_scores, moving_avgs"
   ]
  },
  {
   "cell_type": "code",
   "execution_count": 11,
   "metadata": {
    "scrolled": false
   },
   "outputs": [
    {
     "name": "stdout",
     "output_type": "stream",
     "text": [
      "Episode 50 \tMov. Avg: 0.000 \tLast Score: 0.000\n",
      "Episode 100 \tMov. Avg: 0.000 \tLast Score: 0.000\n",
      "Episode 150 \tMov. Avg: 0.001 \tLast Score: 0.000\n",
      "Episode 200 \tMov. Avg: 0.001 \tLast Score: 0.000\n",
      "Episode 250 \tMov. Avg: 0.000 \tLast Score: 0.000\n",
      "Episode 300 \tMov. Avg: 0.002 \tLast Score: 0.000\n",
      "Episode 350 \tMov. Avg: 0.003 \tLast Score: 0.000\n",
      "Episode 400 \tMov. Avg: 0.001 \tLast Score: 0.000\n",
      "Episode 450 \tMov. Avg: 0.000 \tLast Score: 0.000\n",
      "Episode 500 \tMov. Avg: 0.001 \tLast Score: 0.000\n",
      "Episode 550 \tMov. Avg: 0.001 \tLast Score: 0.000\n",
      "Episode 600 \tMov. Avg: 0.002 \tLast Score: 0.000\n",
      "Episode 650 \tMov. Avg: 0.013 \tLast Score: 0.000\n",
      "Episode 700 \tMov. Avg: 0.026 \tLast Score: 0.000\n",
      "Episode 750 \tMov. Avg: 0.041 \tLast Score: 0.000\n",
      "Episode 800 \tMov. Avg: 0.047 \tLast Score: 0.090\n",
      "Episode 850 \tMov. Avg: 0.041 \tLast Score: 0.000\n",
      "Episode 900 \tMov. Avg: 0.036 \tLast Score: 0.100\n",
      "Episode 950 \tMov. Avg: 0.033 \tLast Score: 0.000\n",
      "Episode 1000 \tMov. Avg: 0.034 \tLast Score: 0.000\n",
      "Episode 1050 \tMov. Avg: 0.038 \tLast Score: 0.000\n",
      "Episode 1100 \tMov. Avg: 0.046 \tLast Score: 0.100\n",
      "Episode 1150 \tMov. Avg: 0.047 \tLast Score: 0.090\n",
      "Episode 1200 \tMov. Avg: 0.037 \tLast Score: 0.000\n",
      "Episode 1250 \tMov. Avg: 0.020 \tLast Score: 0.000\n",
      "Episode 1300 \tMov. Avg: 0.015 \tLast Score: 0.000\n",
      "Episode 1350 \tMov. Avg: 0.014 \tLast Score: 0.000\n",
      "Episode 1400 \tMov. Avg: 0.004 \tLast Score: 0.000\n",
      "Episode 1450 \tMov. Avg: 0.001 \tLast Score: 0.000\n",
      "Episode 1500 \tMov. Avg: 0.000 \tLast Score: 0.000\n",
      "Episode 1550 \tMov. Avg: 0.000 \tLast Score: 0.000\n",
      "Episode 1600 \tMov. Avg: 0.000 \tLast Score: 0.000\n",
      "Episode 1650 \tMov. Avg: 0.000 \tLast Score: 0.000\n",
      "Episode 1700 \tMov. Avg: 0.006 \tLast Score: 0.000\n",
      "Episode 1750 \tMov. Avg: 0.013 \tLast Score: 0.000\n",
      "Episode 1800 \tMov. Avg: 0.007 \tLast Score: 0.000\n",
      "Episode 1850 \tMov. Avg: 0.000 \tLast Score: 0.000\n",
      "Episode 1900 \tMov. Avg: 0.002 \tLast Score: 0.000\n",
      "Episode 1950 \tMov. Avg: 0.003 \tLast Score: 0.000\n",
      "Episode 2000 \tMov. Avg: 0.005 \tLast Score: 0.000\n",
      "Episode 2050 \tMov. Avg: 0.006 \tLast Score: 0.000\n",
      "Episode 2100 \tMov. Avg: 0.013 \tLast Score: 0.000\n",
      "Episode 2150 \tMov. Avg: 0.020 \tLast Score: 0.000\n",
      "Episode 2200 \tMov. Avg: 0.020 \tLast Score: 0.000\n",
      "Episode 2250 \tMov. Avg: 0.014 \tLast Score: 0.000\n",
      "Episode 2300 \tMov. Avg: 0.006 \tLast Score: 0.100\n",
      "Episode 2350 \tMov. Avg: 0.003 \tLast Score: 0.000\n",
      "Episode 2400 \tMov. Avg: 0.003 \tLast Score: 0.000\n",
      "Episode 2450 \tMov. Avg: 0.009 \tLast Score: 0.000\n",
      "Episode 2500 \tMov. Avg: 0.013 \tLast Score: 0.000\n",
      "Episode 2550 \tMov. Avg: 0.018 \tLast Score: 0.000\n",
      "Episode 2600 \tMov. Avg: 0.021 \tLast Score: 0.100\n",
      "Episode 2650 \tMov. Avg: 0.020 \tLast Score: 0.000\n",
      "Episode 2700 \tMov. Avg: 0.016 \tLast Score: 0.000\n",
      "Episode 2750 \tMov. Avg: 0.015 \tLast Score: 0.000\n",
      "Episode 2800 \tMov. Avg: 0.025 \tLast Score: 0.000\n",
      "Episode 2850 \tMov. Avg: 0.027 \tLast Score: 0.000\n",
      "Episode 2900 \tMov. Avg: 0.035 \tLast Score: 0.000\n",
      "Episode 2950 \tMov. Avg: 0.051 \tLast Score: 0.000\n",
      "Episode 3000 \tMov. Avg: 0.050 \tLast Score: 0.090\n",
      "Episode 3050 \tMov. Avg: 0.059 \tLast Score: 0.000\n",
      "Episode 3100 \tMov. Avg: 0.066 \tLast Score: 0.000\n",
      "Episode 3150 \tMov. Avg: 0.072 \tLast Score: 0.000\n",
      "Episode 3200 \tMov. Avg: 0.082 \tLast Score: 0.100\n",
      "Episode 3250 \tMov. Avg: 0.084 \tLast Score: 0.000\n",
      "Episode 3300 \tMov. Avg: 0.083 \tLast Score: 0.000\n",
      "Episode 3350 \tMov. Avg: 0.081 \tLast Score: 0.090\n",
      "Episode 3400 \tMov. Avg: 0.079 \tLast Score: 0.100\n",
      "Episode 3450 \tMov. Avg: 0.084 \tLast Score: 0.090\n",
      "Episode 3500 \tMov. Avg: 0.091 \tLast Score: 0.100\n",
      "Episode 3550 \tMov. Avg: 0.092 \tLast Score: 0.100\n",
      "Episode 3600 \tMov. Avg: 0.091 \tLast Score: 0.100\n",
      "Episode 3650 \tMov. Avg: 0.088 \tLast Score: 0.100\n",
      "Episode 3700 \tMov. Avg: 0.090 \tLast Score: 0.090\n",
      "Episode 3750 \tMov. Avg: 0.089 \tLast Score: 0.100\n",
      "Episode 3800 \tMov. Avg: 0.085 \tLast Score: 0.090\n",
      "Episode 3850 \tMov. Avg: 0.087 \tLast Score: 0.090\n",
      "Episode 3900 \tMov. Avg: 0.090 \tLast Score: 0.100\n",
      "Episode 3950 \tMov. Avg: 0.088 \tLast Score: 0.100\n",
      "Episode 4000 \tMov. Avg: 0.090 \tLast Score: 0.090\n",
      "Episode 4050 \tMov. Avg: 0.088 \tLast Score: 0.100\n",
      "Episode 4100 \tMov. Avg: 0.087 \tLast Score: 0.090\n",
      "Episode 4150 \tMov. Avg: 0.092 \tLast Score: 0.100\n",
      "Episode 4200 \tMov. Avg: 0.092 \tLast Score: 0.090\n",
      "Episode 4250 \tMov. Avg: 0.091 \tLast Score: 0.090\n",
      "Episode 4300 \tMov. Avg: 0.090 \tLast Score: 0.100\n",
      "Episode 4350 \tMov. Avg: 0.083 \tLast Score: 0.100\n",
      "Episode 4400 \tMov. Avg: 0.084 \tLast Score: 0.100\n",
      "Episode 4450 \tMov. Avg: 0.090 \tLast Score: 0.100\n",
      "Episode 4500 \tMov. Avg: 0.089 \tLast Score: 0.000\n",
      "Episode 4550 \tMov. Avg: 0.088 \tLast Score: 0.100\n",
      "Episode 4600 \tMov. Avg: 0.091 \tLast Score: 0.100\n",
      "Episode 4650 \tMov. Avg: 0.092 \tLast Score: 0.100\n",
      "Episode 4700 \tMov. Avg: 0.094 \tLast Score: 0.090\n",
      "Episode 4750 \tMov. Avg: 0.096 \tLast Score: 0.090\n",
      "Episode 4800 \tMov. Avg: 0.095 \tLast Score: 0.090\n",
      "Episode 4850 \tMov. Avg: 0.095 \tLast Score: 0.090\n",
      "Episode 4900 \tMov. Avg: 0.095 \tLast Score: 0.090\n",
      "Episode 4950 \tMov. Avg: 0.095 \tLast Score: 0.090\n",
      "Episode 5000 \tMov. Avg: 0.095 \tLast Score: 0.090\n",
      "Episode 5050 \tMov. Avg: 0.095 \tLast Score: 0.100\n",
      "Episode 5100 \tMov. Avg: 0.096 \tLast Score: 0.100\n",
      "Episode 5150 \tMov. Avg: 0.100 \tLast Score: 0.090\n",
      "Episode 5200 \tMov. Avg: 0.104 \tLast Score: 0.100\n",
      "Episode 5250 \tMov. Avg: 0.105 \tLast Score: 0.100\n",
      "Episode 5300 \tMov. Avg: 0.115 \tLast Score: 0.100\n",
      "Episode 5350 \tMov. Avg: 0.121 \tLast Score: 0.100\n",
      "Episode 5400 \tMov. Avg: 0.110 \tLast Score: 0.100\n",
      "Episode 5450 \tMov. Avg: 0.100 \tLast Score: 0.100\n",
      "Episode 5500 \tMov. Avg: 0.101 \tLast Score: 0.090\n",
      "Episode 5550 \tMov. Avg: 0.103 \tLast Score: 0.100\n",
      "Episode 5600 \tMov. Avg: 0.103 \tLast Score: 0.100\n",
      "Episode 5650 \tMov. Avg: 0.101 \tLast Score: 0.100\n",
      "Episode 5700 \tMov. Avg: 0.103 \tLast Score: 0.100\n",
      "Episode 5750 \tMov. Avg: 0.105 \tLast Score: 0.100\n",
      "Episode 5800 \tMov. Avg: 0.105 \tLast Score: 0.100\n",
      "Episode 5850 \tMov. Avg: 0.110 \tLast Score: 0.200\n",
      "Episode 5900 \tMov. Avg: 0.117 \tLast Score: 0.200\n",
      "Episode 5950 \tMov. Avg: 0.123 \tLast Score: 0.100\n",
      "Episode 6000 \tMov. Avg: 0.124 \tLast Score: 0.200\n",
      "Episode 6050 \tMov. Avg: 0.125 \tLast Score: 0.100\n",
      "Episode 6100 \tMov. Avg: 0.141 \tLast Score: 0.100\n",
      "Episode 6150 \tMov. Avg: 0.163 \tLast Score: 0.200\n",
      "Episode 6200 \tMov. Avg: 0.181 \tLast Score: 0.200\n",
      "Episode 6250 \tMov. Avg: 0.209 \tLast Score: 0.100\n",
      "Episode 6300 \tMov. Avg: 0.332 \tLast Score: 0.190\n",
      "Episode 6350 \tMov. Avg: 0.380 \tLast Score: 1.100\n",
      "\n",
      "Environment SOLVED in 6389 episodes!\tMoving Average =0.5 over last 100 episodes\n"
     ]
    }
   ],
   "source": [
    "scores, avgs = maddpg()"
   ]
  },
  {
   "cell_type": "code",
   "execution_count": 16,
   "metadata": {},
   "outputs": [
    {
     "data": {
      "image/png": "[encoded data removed]",
      "text/plain": [
       "<matplotlib.figure.Figure at 0x7f5bcf8657b8>"
      ]
     },
     "metadata": {
      "needs_background": "light"
     },
     "output_type": "display_data"
    }
   ],
   "source": [
    "# plot the scores\n",
    "fig = plt.figure()\n",
    "ax = fig.add_subplot(111)\n",
    "plt.plot(np.arange(len(scores)), scores, label = 'Scores')\n",
    "plt.plot(np.arange(len(scores)), avgs, label = 'Moving Average')\n",
    "plt.plot(np.arange(len(scores)), np.full(len(scores), 0.5), label = 'Threshold')\n",
    "\n",
    "plt.ylabel('Score')\n",
    "plt.xlabel('Episode #')\n",
    "plt.legend()\n",
    "plt.show()"
   ]
  },
  {
   "cell_type": "code",
   "execution_count": 3,
   "metadata": {},
   "outputs": [],
   "source": [
    "env.close()"
   ]
  },
  {
   "cell_type": "code",
   "execution_count": null,
   "metadata": {},
   "outputs": [],
   "source": []
  }
 ],
 "metadata": {
  "kernelspec": {
   "display_name": "Python 3",
   "language": "python",
   "name": "python3"
  },
  "language_info": {
   "codemirror_mode": {
    "name": "ipython",
    "version": 3
   },
   "file_extension": ".py",
   "mimetype": "text/x-python",
   "name": "python",
   "nbconvert_exporter": "python",
   "pygments_lexer": "ipython3",
   "version": "3.6.7"
  }
 },
 "nbformat": 4,
 "nbformat_minor": 2
}
